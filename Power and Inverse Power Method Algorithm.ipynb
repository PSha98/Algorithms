{
 "cells": [
  {
   "cell_type": "markdown",
   "metadata": {},
   "source": [
    "## Power and Inverse Power Method Algorithm \n",
    "Kernel-SAGEMATH"
   ]
  },
  {
   "cell_type": "markdown",
   "metadata": {},
   "source": [
    "### Power Method"
   ]
  },
  {
   "cell_type": "markdown",
   "metadata": {},
   "source": [
    "Let A be n x n real matrix. The power method is a numerical approach to find the dominant eigen value and the dominant eigenvector. The assumptions are as follows:\n",
    "\n",
    "\n",
    "(a) The dominant eigen value is a real number and its absolute value is strictly greater than all other eigenvalue\n",
    "\n",
    "(b) A is diagonalizable, A has n linearly independent eigenvectors\n",
    "\n",
    "\n",
    "Let A has n independently eigen vectors $x_1,x_2,.....x_n$ with eigenvalues $\\lambda_1,\\lambda_2,......\\lambda_n$. Assume that \n",
    "\n",
    "$\\mid\\lambda_1\\mid \\geq \\mid\\lambda_2\\mid\\geq\\mid\\lambda_2\\mid\\geq.........\\geq\\mid\\lambda_n\\mid$ \n",
    "\n",
    "Now we start with any non-zero vector $x^{(0)} \\in\\Re^n$. Define\n",
    "\n",
    "$x^{(1)}=Ax^{(0)},x^{(2)}=Ax^{(1)},......,x^{(k)}=Ax^{(k-1)}$\n",
    "\n",
    "This implies $x^{(k)}=Ax^{(k-1)}=A^2x^{(k-2)}=......=A^kx^{(0)}$\n",
    "\n",
    "Then $\\exists$ scalars $c_1,c_2,.....c_n$ such that \n",
    "$x^{(0)}=c_1x_1+......+c_nx_n$\n",
    "\n",
    "Multiplying both sides by $A^k$,\n",
    "\n",
    "$x^{(k)}=A^kx^{(0)}=\\sum_{i=1}^{n}c_iA^kx_i=\\sum_{i=1}^{n}c_i\\lambda_i^kx_i=\\lambda_1^k[c_1x_1+\\sum_{i=2}^{n}c_i(\\dfrac{\\lambda_i}{\\lambda_1})^kx_i]$\n",
    "\n",
    "Since $\\lambda_1>\\lambda_1$ for all i>1, the ratio $\\mid\\dfrac{\\lambda_i}{\\lambda_1}\\mid$. Thus as k->$\\infty$, $\\dfrac{\\lambda_i}{\\lambda_1}->0$ . Hence $\\dfrac{x^{(0)}}{\\lambda_1^k}->c_1x_1$\n",
    "\n",
    "In case of $c_1\\neq0$ ,we can approximate $x_1$. Once eigenvector $x_1$ is found, then its eigenvalue is\n",
    "\n",
    "$\\lambda=\\dfrac{x_1^{T}Ax_1}{x_1^Tx_1}$\n",
    "\n",
    "The right part is called as Rayleigh quotient of $x_1$ with respect to A\n",
    "\n",
    "While applying the Power Method Algorithm, we make sure that the largest component each of $x^{(k)}$ is unity, in this case the component of $x^{(k+1)}=Ax^{(k)}$ will have largest component of absolute value of $\\lambda$"
   ]
  },
  {
   "cell_type": "markdown",
   "metadata": {},
   "source": [
    "Algorithm \n",
    "Select an initial vector $x^{(0)}$ having largest component as 1. \n",
    "\n",
    "(a) Set k=2(Initialization)\n",
    "\n",
    "(b) Find $y^{(k)}=Ax^{(k)}$\n",
    "\n",
    "(c) Define $c_k$ to be the largest component in absolute value in the vector $y^{(k)}$\n",
    "\n",
    "(d) Define $x^{(k+1)} = \\dfrac{1}{c_k}y^{(k)}$\n",
    "\n",
    "(e) Check if the convergence criteria is met. Otherwise\n",
    "\n",
    "(f) Set k=k+1 and go to the step 3"
   ]
  },
  {
   "cell_type": "markdown",
   "metadata": {},
   "source": [
    "Find the largest eigenvalue and the corresponing eigenvector of A = $\\left(\n",
    "\\begin{matrix}\n",
    "4 & -5\\\\\n",
    "2 & -3\n",
    "\\end{matrix}\n",
    "\\right) $\n",
    "starting with x0 = (0, 1) using the power method."
   ]
  },
  {
   "cell_type": "code",
   "execution_count": 3,
   "metadata": {},
   "outputs": [
    {
     "name": "stdout",
     "output_type": "stream",
     "text": [
      "('Iteration Number:', 0)\n",
      "('y0=', (-5.0000000, -3.0000000), 'c0=', -5.0000000, 'x1=', (1.0000000, 0.60000000))\n",
      "('Iteration Number:', 1)\n",
      "('y1=', (1.0000000, 0.20000000), 'c1=', 1.0000000, 'x2=', (1.0000000, 0.20000000))\n",
      "('Iteration Number:', 2)\n",
      "('y2=', (3.0000000, 1.4000000), 'c2=', 3.0000000, 'x3=', (1.0000000, 0.46666667))\n",
      "('Iteration Number:', 3)\n",
      "('y3=', (1.6666667, 0.60000000), 'c3=', 1.6666667, 'x4=', (1.0000000, 0.36000000))\n",
      "('Iteration Number:', 4)\n",
      "('y4=', (2.2000000, 0.92000000), 'c4=', 2.2000000, 'x5=', (1.0000000, 0.41818182))\n",
      "('Iteration Number:', 5)\n",
      "('y5=', (1.9090909, 0.74545455), 'c5=', 1.9090909, 'x6=', (1.0000000, 0.39047619))\n",
      "('Iteration Number:', 6)\n",
      "('y6=', (2.0476190, 0.82857143), 'c6=', 2.0476190, 'x7=', (1.0000000, 0.40465116))\n",
      "('Iteration Number:', 7)\n",
      "('y7=', (1.9767442, 0.78604651), 'c7=', 1.9767442, 'x8=', (1.0000000, 0.39764706))\n",
      "('Iteration Number:', 8)\n",
      "('y8=', (2.0117647, 0.80705882), 'c8=', 2.0117647, 'x9=', (1.0000000, 0.40116959))\n",
      "('Iteration Number:', 9)\n",
      "('y9=', (1.9941520, 0.79649123), 'c9=', 1.9941520, 'x10=', (1.0000000, 0.39941349))\n",
      "('Iteration Number:', 10)\n",
      "('y10=', (2.0029326, 0.80175953), 'c10=', 2.0029326, 'x11=', (1.0000000, 0.40029283))\n",
      "('Iteration Number:', 11)\n",
      "('y11=', (1.9985359, 0.79912152), 'c11=', 1.9985359, 'x12=', (1.0000000, 0.39985348))\n",
      "('Iteration Number:', 12)\n",
      "('y12=', (2.0007326, 0.80043956), 'c12=', 2.0007326, 'x13=', (1.0000000, 0.40007323))\n",
      "('Iteration Number:', 13)\n",
      "('y13=', (1.9996338, 0.79978030), 'c13=', 1.9996338, 'x14=', (1.0000000, 0.39996338))\n",
      "('Iteration Number:', 14)\n",
      "('y14=', (2.0001831, 0.80010987), 'c14=', 2.0001831, 'x15=', (1.0000000, 0.40001831))\n"
     ]
    }
   ],
   "source": [
    "from numpy import argmax,argmin\n",
    "A=matrix([[4,-5],[2,-3]])\n",
    "x0=vector([0.0,1.0]) # Initial guess of eigenvector\n",
    "maxit=30 # Maximum number of iterates\n",
    "dig=8 # number of decimal places to be shown is dig-1\n",
    "tol=0.0001 # Tolerance limit for difference of two consecutive eigenvectors\n",
    "err=1 # Initialization of tolerance\n",
    "i=0\n",
    "while(i<=maxit and err>=tol):\n",
    "    y0=A*x0\n",
    "    ymod=y0.apply_map(abs)\n",
    "    imax=argmax(ymod)\n",
    "    c1=y0[imax]; x1=y0/c1\n",
    "    err=norm(x0-x1)\n",
    "    i=i+1;x0=x1\n",
    "    print( \"Iteration Number:\", i-1)\n",
    "    print (\"y\"+str(i-1)+\"=\",y0.n(digits=dig), \"c\"+str(i-1)+\"=\",\n",
    "        c1.n(digits=dig), \"x\"+str(i)+\"=\",x0.n(digits=dig))"
   ]
  },
  {
   "cell_type": "code",
   "execution_count": 4,
   "metadata": {},
   "outputs": [
    {
     "data": {
      "text/plain": [
       "[2, -1]"
      ]
     },
     "execution_count": 4,
     "metadata": {},
     "output_type": "execute_result"
    }
   ],
   "source": [
    "A.eigenvalues()"
   ]
  },
  {
   "cell_type": "code",
   "execution_count": 6,
   "metadata": {},
   "outputs": [
    {
     "name": "stdout",
     "output_type": "stream",
     "text": [
      "[(2, [\n",
      "(1, 2/5)\n",
      "], 1), (-1, [\n",
      "(1, 1)\n",
      "], 1)]\n"
     ]
    }
   ],
   "source": [
    "print(A.eigenvectors_right())"
   ]
  },
  {
   "cell_type": "markdown",
   "metadata": {},
   "source": [
    "Find the largest eigenvalue and the corresponing eigenvector of A =$\\left(\n",
    "\\begin{matrix}\n",
    "1 & −3 & 3 \\\\\n",
    "3 & −5 & 3 \\\\\n",
    "6 & −6 & 4 \\\\\n",
    "\\end{matrix}\n",
    "\\right) $\n",
    "\n",
    "starting with\n",
    "x0 = (1.0, 1.0, 1.0) using the power method."
   ]
  },
  {
   "cell_type": "code",
   "execution_count": 8,
   "metadata": {},
   "outputs": [
    {
     "name": "stdout",
     "output_type": "stream",
     "text": [
      "('Iteration Number:', 0)\n",
      "('y0=', (1.00000, 1.00000, 4.00000), 'c0=', 4.00000, 'x1=', (0.250000, 0.250000, 1.00000))\n",
      "('Iteration Number:', 1)\n",
      "('y1=', (2.50000, 2.50000, 4.00000), 'c1=', 4.00000, 'x2=', (0.625000, 0.625000, 1.00000))\n",
      "('Iteration Number:', 2)\n",
      "('y2=', (1.75000, 1.75000, 4.00000), 'c2=', 4.00000, 'x3=', (0.437500, 0.437500, 1.00000))\n",
      "('Iteration Number:', 3)\n",
      "('y3=', (2.12500, 2.12500, 4.00000), 'c3=', 4.00000, 'x4=', (0.531250, 0.531250, 1.00000))\n",
      "('Iteration Number:', 4)\n",
      "('y4=', (1.93750, 1.93750, 4.00000), 'c4=', 4.00000, 'x5=', (0.484375, 0.484375, 1.00000))\n",
      "('Iteration Number:', 5)\n",
      "('y5=', (2.03125, 2.03125, 4.00000), 'c5=', 4.00000, 'x6=', (0.507812, 0.507812, 1.00000))\n",
      "('Iteration Number:', 6)\n",
      "('y6=', (1.98438, 1.98438, 4.00000), 'c6=', 4.00000, 'x7=', (0.496094, 0.496094, 1.00000))\n",
      "('Iteration Number:', 7)\n",
      "('y7=', (2.00781, 2.00781, 4.00000), 'c7=', 4.00000, 'x8=', (0.501953, 0.501953, 1.00000))\n",
      "('Iteration Number:', 8)\n",
      "('y8=', (1.99609, 1.99609, 4.00000), 'c8=', 4.00000, 'x9=', (0.499023, 0.499023, 1.00000))\n",
      "('Iteration Number:', 9)\n",
      "('y9=', (2.00195, 2.00195, 4.00000), 'c9=', 4.00000, 'x10=', (0.500488, 0.500488, 1.00000))\n",
      "('Iteration Number:', 10)\n",
      "('y10=', (1.99902, 1.99902, 4.00000), 'c10=', 4.00000, 'x11=', (0.499756, 0.499756, 1.00000))\n",
      "('Iteration Number:', 11)\n",
      "('y11=', (2.00049, 2.00049, 4.00000), 'c11=', 4.00000, 'x12=', (0.500122, 0.500122, 1.00000))\n",
      "('Iteration Number:', 12)\n",
      "('y12=', (1.99976, 1.99976, 4.00000), 'c12=', 4.00000, 'x13=', (0.499939, 0.499939, 1.00000))\n",
      "('Iteration Number:', 13)\n",
      "('y13=', (2.00012, 2.00012, 4.00000), 'c13=', 4.00000, 'x14=', (0.500031, 0.500031, 1.00000))\n",
      "('Iteration Number:', 14)\n",
      "('y14=', (1.99994, 1.99994, 4.00000), 'c14=', 4.00000, 'x15=', (0.499985, 0.499985, 1.00000))\n"
     ]
    }
   ],
   "source": [
    "from numpy import argmax,argmin\n",
    "A=matrix([[1,-3,3],[3, -5, 3],[6,-6,4]])\n",
    "x0=vector([1.0,1.0,1.0]) ## Initial guess\n",
    "maxit=30 # Maximum number of iterates\n",
    "dig=6 # number of decimal places to be shown is dig-1\n",
    "tol=0.0001 # Tolerance limit for difference of two consecutive eigenvectors\n",
    "err=1 # Initialization of tolerance\n",
    "i=0\n",
    "while(i<=maxit and err>=tol):\n",
    "    y0=A*x0\n",
    "    ymod=y0.apply_map(abs)\n",
    "    imax=argmax(ymod)\n",
    "    c1=y0[imax]; x1=y0/c1\n",
    "    err=norm(x0-x1)\n",
    "    i=i+1; x0=x1\n",
    "    print( \"Iteration Number:\", i-1)\n",
    "    print (\"y\"+str(i-1)+\"=\",y0.n(digits=dig), \"c\"+str(i-1)+\"=\",c1.n(digits=dig), \"x\"+str(i)+\"=\",x0.n(digits=dig))"
   ]
  },
  {
   "cell_type": "code",
   "execution_count": 9,
   "metadata": {},
   "outputs": [
    {
     "data": {
      "text/plain": [
       "4.00006103453534"
      ]
     },
     "execution_count": 9,
     "metadata": {},
     "output_type": "execute_result"
    }
   ],
   "source": [
    "x0.dot_product(A*x0)/x0.dot_product(x0)"
   ]
  },
  {
   "cell_type": "code",
   "execution_count": 10,
   "metadata": {},
   "outputs": [
    {
     "data": {
      "text/plain": [
       "4"
      ]
     },
     "execution_count": 10,
     "metadata": {},
     "output_type": "execute_result"
    }
   ],
   "source": [
    "max(A.eigenvalues())"
   ]
  },
  {
   "cell_type": "code",
   "execution_count": 11,
   "metadata": {},
   "outputs": [],
   "source": [
    "from numpy import argmax,argmin\n",
    "def Power_Method(A,x0,maxit=50,tol=1e-5):\n",
    "    err=1 # Initialization of tolerance\n",
    "    i=0\n",
    "    while(i<=maxit and err>=tol):\n",
    "        y0=A*x0\n",
    "        ymod=y0.apply_map(abs)\n",
    "        imax=argmax(ymod)\n",
    "        c1=y0[imax]\n",
    "        x1=y0/c1\n",
    "        err=norm(x0-x1)\n",
    "        i=i+1\n",
    "        x0=x1\n",
    "    ev = x0.dot_product(A*x0)/x0.dot_product(x0)\n",
    "    return x0, ev"
   ]
  },
  {
   "cell_type": "code",
   "execution_count": 12,
   "metadata": {},
   "outputs": [
    {
     "data": {
      "text/plain": [
       "((0.500001907348633, 0.500001907348633, 1.00000000000000), 3.99999237059577)"
      ]
     },
     "execution_count": 12,
     "metadata": {},
     "output_type": "execute_result"
    }
   ],
   "source": [
    "A=matrix([[1,-3,3],[3, -5, 3],[6,-6,4]])\n",
    "x0=vector([1.0,1.0,1.0]) ## Initial guess\n",
    "Power_Method(A,x0,20)"
   ]
  },
  {
   "cell_type": "code",
   "execution_count": 13,
   "metadata": {},
   "outputs": [
    {
     "data": {
      "text/plain": [
       "((0.511627906976744, 1.00000000000000, 0.0232558139534884), 1.04627249357326)"
      ]
     },
     "execution_count": 13,
     "metadata": {},
     "output_type": "execute_result"
    }
   ],
   "source": [
    "A = matrix([[1,0,1],[0,1,2],[0,0,1]])\n",
    "x0=vector([1.0,1.0,1.0]) ## Initial guess\n",
    "Power_Method(A,x0,20)"
   ]
  },
  {
   "cell_type": "markdown",
   "metadata": {},
   "source": [
    "### Inverse Power Method"
   ]
  },
  {
   "cell_type": "markdown",
   "metadata": {},
   "source": [
    "Here we are now concerned of the smallest eigen value $(A-\\sigma I)^{-1}$.\n",
    "\n",
    "\n",
    "Let $\\sigma$ be an approximation to an eigen value $\\lambda_1$ such that $\\mid\\lambda_1-\\sigma\\mid\\ll\\mid\\lambda_i-\\sigma\\mid$ for all $i$=1,2,3.... That is $\\sigma$ is mmuch closer to $\\lambda_1$ than to the other eigenvalues"
   ]
  },
  {
   "cell_type": "markdown",
   "metadata": {},
   "source": [
    "Algorithm\n",
    "\n",
    "(a) Select an initial estimate $\\sigma$ sufficiently closer to $\\lambda_i$\n",
    "\n",
    "(b) Select a vector $x^{(0)}$ whose largest entry is 1\n",
    "\n",
    "(c) Set k=0\n",
    "\n",
    "(d) Solve ($A-\\sigma I$)($y^{(k)}$)=$x^{(k)}$ for $y^{(k)}$\n",
    "\n",
    "(e) Define $c_k$ to be largest component in absolute value in the vector $y^{(k)}$\n",
    "\n",
    "(f) Find $d_k$ = $\\sigma+\\dfrac{1}{c_k}$\n",
    "\n",
    "(g) Define $x^{(k+1)}$ = $\\dfrac{1}{c_k}y^{(k)}$\n",
    "\n",
    "(h) Check if the convergence criteria is met. Otherwise\n",
    "\n",
    "(i) Set k=k+1 and go to the step 4\n",
    "\n",
    "\n"
   ]
  },
  {
   "cell_type": "markdown",
   "metadata": {},
   "source": [
    "In the above algo $d_k$ converges to $\\lambda_1$ and $x^{(k)}$ converges to the corresponding eigenvector.\n",
    "The above power method is also known as inverse iteration shift method"
   ]
  },
  {
   "cell_type": "markdown",
   "metadata": {},
   "source": [
    "### Example\n"
   ]
  },
  {
   "cell_type": "markdown",
   "metadata": {},
   "source": [
    "Find the smallest eigenvalue and the corresponing eigenvector of A = $\\left(\n",
    "\\begin{matrix}\n",
    "10 & 8 & -4 \\\\\n",
    "-8 & 13 & 5 \\\\\n",
    "-4 & 4 & 4 \\\\\n",
    "\\end{matrix}\n",
    "\\right) $\n",
    "starting with $x_0$ = (1, 1, 1) using the inverse power method."
   ]
  },
  {
   "cell_type": "code",
   "execution_count": 15,
   "metadata": {},
   "outputs": [
    {
     "name": "stdout",
     "output_type": "stream",
     "text": [
      "('Iteration Number:', 1)\n",
      "('y0=', (3.0273924, -3.8029171, 13.486304), 'd0=', 1.9741493)\n",
      "('x1=', (1.0000000, 1.0000000, 1.0000000))\n",
      "('Iteration Number:', 2)\n",
      "('y1=', (1.7493556, -3.3806960, 10.247717), 'd1=', 1.9975827)\n",
      "('x2=', (0.22447903, -0.28198365, 1.0000000))\n",
      "('Iteration Number:', 3)\n",
      "('y2=', (1.6724019, -3.3366981, 10.017333), 'd2=', 1.9998270)\n",
      "('x3=', (0.17070686, -0.32989747, 1.0000000))\n",
      "('Iteration Number:', 4)\n",
      "('y3=', (1.6670698, -3.3335702, 10.001219), 'd3=', 1.9999878)\n",
      "('x4=', (0.16695081, -0.33309245, 1.0000000))\n"
     ]
    }
   ],
   "source": [
    "from numpy import argmax,argmin\n",
    "A=matrix([[10,-8,-4],[-8,13,5],[-4,4,4]])\n",
    "n = A.nrows()\n",
    "Id=identity_matrix(n)\n",
    "x0=vector([1.0,1.0,1.0]) ## Initial guess\n",
    "maxit=30 # Maximum number of iterates\n",
    "dig=8 # number of decimal places to be shown is dig-1\n",
    "tol=0.00001 # Tolerance limit for difference of two consecutive eigenvectors\n",
    "err=1 # Initialization of tolerance\n",
    "sig=1.9 # Initial Shifting number\n",
    "i=0\n",
    "while(i<=n and err>=tol):\n",
    "    y0=(A-sig*Id).inverse()*x0\n",
    "    ymod=y0.apply_map(abs)\n",
    "    imax=argmax(ymod)\n",
    "    c1=y0[imax]\n",
    "    d1=sig+1/c1\n",
    "    x1=y0/c1\n",
    "    print( \"Iteration Number:\", i+1)\n",
    "    print( \"y\"+str(i)+\"=\",y0.n(digits=dig), \"d\"+str(i)+\"=\", d1.n(digits=dig))\n",
    "    print( \"x\"+str(i+1)+\"=\",x0.n(digits=dig))\n",
    "    i=i+1\n",
    "    x0=x1"
   ]
  },
  {
   "cell_type": "code",
   "execution_count": 16,
   "metadata": {},
   "outputs": [
    {
     "data": {
      "text/plain": [
       "[(2, [\n",
       "  (1, -2, 6)\n",
       "  ], 1),\n",
       " (3.321220124657091?, [(1, 1.084847484417864?, -1/2)], 1),\n",
       " (21.67877987534291?, [(1, -1.209847484417864?, -1/2)], 1)]"
      ]
     },
     "execution_count": 16,
     "metadata": {},
     "output_type": "execute_result"
    }
   ],
   "source": [
    "A.eigenvalues()\n",
    "A.eigenvectors_right()"
   ]
  }
 ],
 "metadata": {
  "kernelspec": {
   "display_name": "SageMath 9.0",
   "language": "sage",
   "name": "sagemath"
  },
  "language_info": {
   "codemirror_mode": {
    "name": "ipython",
    "version": 2
   },
   "file_extension": ".py",
   "mimetype": "text/x-python",
   "name": "python",
   "nbconvert_exporter": "python",
   "pygments_lexer": "ipython2",
   "version": "2.7.15"
  }
 },
 "nbformat": 4,
 "nbformat_minor": 2
}
