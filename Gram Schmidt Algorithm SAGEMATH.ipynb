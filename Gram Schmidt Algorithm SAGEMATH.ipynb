{
 "cells": [
  {
   "cell_type": "markdown",
   "metadata": {},
   "source": [
    "## Gram Schmidt Orthogonalization Algorithm \n",
    "Kernel-SAGEMATH\n"
   ]
  },
  {
   "cell_type": "markdown",
   "metadata": {},
   "source": [
    "Let {$v_1,v_2,......v_n$} be a basis of finite dimensional inner product space V. Then an orthogonal basis {$q_1,q_2,....q_n$}\n",
    "can be obtained by:\n",
    "\n",
    "$u_1 = v_1$\n",
    "\n",
    "$u_k = v_k - \\sum_{i=1}^{k-1}\\dfrac{\\langle v_k, u_i \\rangle}{\\langle u_i,u_i \\rangle} u_i$, $i=1,2...n$\n",
    "\n",
    "\n",
    "$q_i = \\dfrac{u_i}{\\vert\\vert u_i \\vert\\vert}$"
   ]
  },
  {
   "cell_type": "code",
   "execution_count": 1,
   "metadata": {},
   "outputs": [],
   "source": [
    "def proj(v, u):\n",
    "    p = v.dot_product(u)/(norm(u)^2)*u\n",
    "    return(p)"
   ]
  },
  {
   "cell_type": "code",
   "execution_count": 2,
   "metadata": {},
   "outputs": [],
   "source": [
    "def Gram_Schmidt(S):\n",
    "    n = len(S)\n",
    "    E=[S[0]/norm(S[0]).n()]\n",
    "    for k in range(1,n):\n",
    "        q = S[k]-sum([proj(S[k],E[i]) for i in range(k)])\n",
    "        E.append(q/norm(q).n(digits=5))\n",
    "    return(E)"
   ]
  },
  {
   "cell_type": "markdown",
   "metadata": {},
   "source": [
    "Find and orthonormal basis from \n",
    "\n",
    "{(2,-1,3,1),(3,3,4,0),(1,-2,0,-1),(4,5,5,-1)}\n",
    "\n"
   ]
  },
  {
   "cell_type": "code",
   "execution_count": 3,
   "metadata": {},
   "outputs": [
    {
     "data": {
      "text/plain": [
       "[\n",
       "\n",
       "]"
      ]
     },
     "execution_count": 3,
     "metadata": {},
     "output_type": "execute_result"
    }
   ],
   "source": [
    "v1 = vector([2, -1, 3, 1])\n",
    "v2 = vector([3, 3, 4, 0])\n",
    "v3 = vector([1, -2, 0, -1])\n",
    "v4 = vector([4, 5, 5, -1])\n",
    "L = [v1,v2,v3,v4]\n",
    "(QQ^4).linear_dependence(L)"
   ]
  },
  {
   "cell_type": "code",
   "execution_count": 4,
   "metadata": {},
   "outputs": [
    {
     "data": {
      "text/plain": [
       "[(0.516397779494322, -0.258198889747161, 0.774596669241483, 0.258198889747161),\n",
       " (0.22942, 0.91766, 0.22942, -0.22942),\n",
       " (0.48914, -0.28674, -0.15180, -0.80962),\n",
       " (-0.66442, -0.094970, 0.56950, -0.47455)]"
      ]
     },
     "execution_count": 4,
     "metadata": {},
     "output_type": "execute_result"
    }
   ],
   "source": [
    "L1 = Gram_Schmidt(L)\n",
    "L1"
   ]
  },
  {
   "cell_type": "code",
   "execution_count": 10,
   "metadata": {},
   "outputs": [
    {
     "name": "stdout",
     "output_type": "stream",
     "text": [
      "[  0.51640   0.22942   0.48914  -0.66442]\n",
      "[ -0.25820   0.91766  -0.28674 -0.094970]\n",
      "[  0.77460   0.22942  -0.15180   0.56950]\n",
      "[  0.25820  -0.22942  -0.80962  -0.47455]\n"
     ]
    }
   ],
   "source": [
    "ML = column_matrix(L1)\n",
    "print(ML)\n",
    "## ML is orthogonal matrix"
   ]
  },
  {
   "cell_type": "code",
   "execution_count": 11,
   "metadata": {},
   "outputs": [
    {
     "name": "stdout",
     "output_type": "stream",
     "text": [
      "[      1.0000  0.000037193   -9.0599e-6 -0.000015736]\n",
      "[ 0.000037193       1.0000 -0.000030577  0.000021815]\n",
      "[  -9.0599e-6 -0.000030577       1.0000  0.000018597]\n",
      "[-0.000015736  0.000021815  0.000018597      0.99997]\n"
     ]
    }
   ],
   "source": [
    "print(ML*ML.T) "
   ]
  },
  {
   "cell_type": "code",
   "execution_count": 13,
   "metadata": {},
   "outputs": [
    {
     "name": "stdout",
     "output_type": "stream",
     "text": [
      "[      2      -1       3       1]\n",
      "[      1       4       1      -1]\n",
      "[  87/95  -51/95  -27/95 -144/95]\n",
      "[-14/111  -2/111    4/37 -10/111]\n",
      "[     1      0      0      0]\n",
      "[     1      1      0      0]\n",
      "[   1/5  -6/19      1      0]\n",
      "[ 17/15  30/19 34/111      1]\n"
     ]
    }
   ],
   "source": [
    "## Gram-Schmidt using inbuilt function\n",
    "A = column_matrix(QQbar, L)\n",
    "G, M = A.T.gram_schmidt()\n",
    "print(G)\n",
    "print(M)"
   ]
  },
  {
   "cell_type": "code",
   "execution_count": 14,
   "metadata": {},
   "outputs": [
    {
     "name": "stdout",
     "output_type": "stream",
     "text": [
      "[      2       1   87/95 -14/111]\n",
      "[     -1       4  -51/95  -2/111]\n",
      "[      3       1  -27/95    4/37]\n",
      "[      1      -1 -144/95 -10/111]\n",
      "[     1      1    1/5  17/15]\n",
      "[     0      1  -6/19  30/19]\n",
      "[     0      0      1 34/111]\n",
      "[     0      0      0      1]\n"
     ]
    }
   ],
   "source": [
    "Q = G.T\n",
    "R = M.T\n",
    "print(Q)\n",
    "print(R)"
   ]
  },
  {
   "cell_type": "code",
   "execution_count": 16,
   "metadata": {},
   "outputs": [
    {
     "name": "stdout",
     "output_type": "stream",
     "text": [
      "[ 2  3  1  4]\n",
      "[-1  3 -2  5]\n",
      "[ 3  4  0  5]\n",
      "[ 1  0 -1 -1]\n"
     ]
    }
   ],
   "source": [
    "print(Q*R)\n"
   ]
  },
  {
   "cell_type": "code",
   "execution_count": 17,
   "metadata": {},
   "outputs": [
    {
     "name": "stdout",
     "output_type": "stream",
     "text": [
      "[ 2  3  1  4]\n",
      "[-1  3 -2  5]\n",
      "[ 3  4  0  5]\n",
      "[ 1  0 -1 -1]\n"
     ]
    }
   ],
   "source": [
    "print(A)"
   ]
  }
 ],
 "metadata": {
  "kernelspec": {
   "display_name": "SageMath 9.0",
   "language": "sage",
   "name": "sagemath"
  },
  "language_info": {
   "codemirror_mode": {
    "name": "ipython",
    "version": 2
   },
   "file_extension": ".py",
   "mimetype": "text/x-python",
   "name": "python",
   "nbconvert_exporter": "python",
   "pygments_lexer": "ipython2",
   "version": "2.7.15"
  }
 },
 "nbformat": 4,
 "nbformat_minor": 2
}
