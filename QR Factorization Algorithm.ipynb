{
 "cells": [
  {
   "cell_type": "markdown",
   "metadata": {},
   "source": [
    "### QR-FACTORIZATION ALGORITHM\n",
    "#### KERNEL-SAGEMATH"
   ]
  },
  {
   "cell_type": "markdown",
   "metadata": {},
   "source": [
    "$A  = [a_1,a_2,.....a_n]$ = $QR$ = $[q_1,q_2,....q_n]\\left[ \\begin{matrix}\n",
    "r_{1,1} & r_{1,2} & \\dots & r_{1,n}\\\\\n",
    "0 & r_{2,2} & \\dots & r_{2,n}\\\\\n",
    "\\vdots & \\vdots & \\ddots & \\vdots\\\\\n",
    "0 & 0 & \\dots & r_{n,n}\n",
    "\\end{matrix} \\right]$\n",
    "\n",
    "\n",
    "$r_{1,1}q_1=a_1$\n",
    "\n",
    "\n",
    "$r_{1,2}q_1+r_{2,2}q_2=a_2$\n",
    "\n",
    "$r_{1,3}q_1+r_{2,3}q_2+r_{3,3}q_3=a_3$\n",
    "\n",
    "\n",
    "$\\sum_{i=1}^{j}r_{i,j}q_i=a_j$ with $r_{i,j}=\\langle a_j,q_i \\rangle$\n",
    "\n",
    "A=$[a_1,a_2,....a_n]=[q_1,q_2,...q_n]\\left[ \\begin{matrix}\n",
    "\\langle a_1,q_1 \\rangle & \\langle a_2,q_1 \\rangle & \\dots & \\langle a_n,q_1 \\rangle \\\\\n",
    "0 & \\langle a_2,q_2 \\rangle & \\dots & \\langle a_n,q_2 \\rangle \\\\\n",
    "\\vdots & \\vdots & \\ddots & \\vdots\\\\\n",
    "0 & 0 & \\dots & \\langle a_n,q_n \\rangle\n",
    "\\end{matrix} \\right]$\n"
   ]
  },
  {
   "cell_type": "code",
   "execution_count": 18,
   "metadata": {},
   "outputs": [
    {
     "data": {
      "text/html": [
       "<html><script type=\"math/tex; mode=display\">\\newcommand{\\Bold}[1]{\\mathbf{#1}}\\left(\\begin{array}{rrrr}\n",
       "2 & 3 & 1 & 4 \\\\\n",
       "-1 & 3 & -2 & 5 \\\\\n",
       "3 & 4 & 0 & 5 \\\\\n",
       "1 & 0 & -1 & -1\n",
       "\\end{array}\\right)</script></html>"
      ],
      "text/plain": [
       "[ 2  3  1  4]\n",
       "[-1  3 -2  5]\n",
       "[ 3  4  0  5]\n",
       "[ 1  0 -1 -1]"
      ]
     },
     "metadata": {},
     "output_type": "display_data"
    }
   ],
   "source": [
    "##Example\n",
    "v1 = vector([2, -1, 3, 1])\n",
    "v2 = vector([3, 3, 4, 0])\n",
    "v3 = vector([1, -2, 0, -1])\n",
    "v4 = vector([4, 5, 5, -1])\n",
    "L = [v1,v2,v3,v4]\n",
    "A = column_matrix(L)\n",
    "show(A)"
   ]
  },
  {
   "cell_type": "code",
   "execution_count": 19,
   "metadata": {},
   "outputs": [],
   "source": [
    "def proj(v, u):\n",
    "    p = v.dot_product(u)/(norm(u)^2)*u\n",
    "    return(p)\n",
    "def Gram_Schmidt(S):\n",
    "    n = len(S)\n",
    "    E=[S[0]/norm(S[0]).n()]\n",
    "    for k in range(1,n):\n",
    "        q = S[k]-sum([proj(S[k],E[i]) for i in range(k)])\n",
    "        E.append(q/norm(q).n(digits=5))\n",
    "    return(E)"
   ]
  },
  {
   "cell_type": "code",
   "execution_count": 20,
   "metadata": {},
   "outputs": [
    {
     "data": {
      "text/plain": [
       "[     3.8730      3.8730     0.77460      4.3894]\n",
       "[ -2.3842e-7      4.3589     -1.3765      6.8825]\n",
       "[    0.00000   1.9073e-6      1.8722     0.57348]\n",
       "[0.000057220 -0.00020218 0.000060558     0.18948]"
      ]
     },
     "execution_count": 20,
     "metadata": {},
     "output_type": "execute_result"
    }
   ],
   "source": [
    "Q = column_matrix(Gram_Schmidt(L))\n",
    "R = Q.T*A\n",
    "R"
   ]
  },
  {
   "cell_type": "code",
   "execution_count": 21,
   "metadata": {},
   "outputs": [],
   "source": [
    "## QR-factorization using the Sage inbuilt function\n",
    "Q1, R1 = A.change_ring(QQbar).QR()"
   ]
  },
  {
   "cell_type": "code",
   "execution_count": 22,
   "metadata": {},
   "outputs": [
    {
     "data": {
      "text/plain": [
       "[ 3.872983346207417?  3.872983346207417?  0.774596669241484?  4.389381125701739?]\n",
       "[                  0  4.358898943540674? -1.376494403223371?  6.882472016116853?]\n",
       "[                  0                   0  1.872234803088207? 0.5734773270720634?]\n",
       "[                  0                   0                   0 0.1898315991504998?]"
      ]
     },
     "execution_count": 22,
     "metadata": {},
     "output_type": "execute_result"
    }
   ],
   "source": [
    "R1"
   ]
  },
  {
   "cell_type": "code",
   "execution_count": 23,
   "metadata": {},
   "outputs": [
    {
     "data": {
      "text/plain": [
       "[ 2.000000000000000?  3.000000000000000?  1.000000000000000?  4.000000000000000?]\n",
       "[-1.000000000000000?  3.000000000000000? -2.000000000000000?  5.000000000000000?]\n",
       "[ 3.000000000000000?  4.000000000000000?             0.?e-17  5.000000000000000?]\n",
       "[ 1.000000000000000?             0.?e-17 -1.000000000000000? -1.000000000000000?]"
      ]
     },
     "execution_count": 23,
     "metadata": {},
     "output_type": "execute_result"
    }
   ],
   "source": [
    "Q1*R1"
   ]
  },
  {
   "cell_type": "code",
   "execution_count": 24,
   "metadata": {},
   "outputs": [],
   "source": [
    "##QR factorization of singular matrices\n",
    "A = matrix(QQbar, 3, 3, [0..8])"
   ]
  },
  {
   "cell_type": "code",
   "execution_count": 25,
   "metadata": {},
   "outputs": [],
   "source": [
    "Q,R = A.QR()"
   ]
  },
  {
   "cell_type": "code",
   "execution_count": 26,
   "metadata": {},
   "outputs": [
    {
     "data": {
      "text/plain": [
       "(\n",
       "[                   0   0.912870929175277?  0.4082482904638630?]\n",
       "[ 0.4472135954999580?  0.3651483716701108? -0.8164965809277260?]\n",
       "[ 0.8944271909999159? -0.1825741858350554?  0.4082482904638630?],\n",
       "\n",
       "[6.708203932499369?  8.04984471899925?  9.39148550549912?]\n",
       "[                 0 1.095445115010333? 2.190890230020665?]\n",
       "[                 0                  0                  0]\n",
       ")"
      ]
     },
     "execution_count": 26,
     "metadata": {},
     "output_type": "execute_result"
    }
   ],
   "source": [
    "Q,R"
   ]
  },
  {
   "cell_type": "code",
   "execution_count": 27,
   "metadata": {},
   "outputs": [
    {
     "data": {
      "text/plain": [
       "[6.708203932499369?  8.04984471899925?  9.39148550549912?]\n",
       "[                 0 1.095445115010333? 2.190890230020665?]\n",
       "[                 0                  0                  0]"
      ]
     },
     "execution_count": 27,
     "metadata": {},
     "output_type": "execute_result"
    }
   ],
   "source": [
    "R"
   ]
  },
  {
   "cell_type": "code",
   "execution_count": 28,
   "metadata": {},
   "outputs": [
    {
     "name": "stdout",
     "output_type": "stream",
     "text": [
      "[                   0   0.912870929175277?  0.4082482904638630?]\n",
      "[ 0.4472135954999580?  0.3651483716701108? -0.8164965809277260?]\n",
      "[ 0.8944271909999159? -0.1825741858350554?  0.4082482904638630?]\n",
      "[ 8.94427190999916? 10.28591269649904? 11.62755348299891? 12.96919426949878?]\n",
      "[                 0 1.095445115010333? 2.190890230020665? 3.286335345030997?]\n",
      "[                 0                  0                  0                  0]\n"
     ]
    }
   ],
   "source": [
    "##QR factorization of rectangular matrices\n",
    "A = matrix(QQbar, 3, 4, [0..11])\n",
    "Q,R = A.QR()\n",
    "print(Q)\n",
    "print(R)"
   ]
  }
 ],
 "metadata": {
  "kernelspec": {
   "display_name": "SageMath 9.0",
   "language": "sage",
   "name": "sagemath"
  },
  "language_info": {
   "codemirror_mode": {
    "name": "ipython",
    "version": 2
   },
   "file_extension": ".py",
   "mimetype": "text/x-python",
   "name": "python",
   "nbconvert_exporter": "python",
   "pygments_lexer": "ipython2",
   "version": "2.7.15"
  }
 },
 "nbformat": 4,
 "nbformat_minor": 2
}
