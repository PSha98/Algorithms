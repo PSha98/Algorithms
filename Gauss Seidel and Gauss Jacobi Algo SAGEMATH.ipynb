{
 "cells": [
  {
   "cell_type": "markdown",
   "metadata": {},
   "source": [
    "## Gauss Jacobi and Gauss Seidel Algorithm\n",
    "#### Kernel-SAGEMATH 9.0"
   ]
  },
  {
   "cell_type": "markdown",
   "metadata": {},
   "source": [
    "## Gauss Jacobi\n"
   ]
  },
  {
   "cell_type": "markdown",
   "metadata": {},
   "source": [
    "We write the system of equations AX=B as\n",
    "$X_{k+1}=HX_k+C$\n",
    "\n",
    "Here H is the iteration matrix \n",
    "\n",
    "\n",
    "Let A = L+D+U where D is the diagonal part, L and U are strictly lower and upper triangular parts of A.\n",
    "\n",
    "Then AX=B reduces to (L+D+U)X=B\n",
    "\n",
    "\n",
    "=> $DX = -(L+U)X+B$\n",
    "\n",
    "If D is invertible then, \n",
    "\n",
    "$X=-D^{-1}(L+U)X+D^{-1}B$\n",
    "\n",
    "Hence the iterative sequence is given by \n",
    "\n",
    "$X^{k+1}=-D^{-1}(L+U)X^{(k)}+D^{(-1)}B$\n",
    "\n",
    "Thus the iteration H = $-D^{-1}(L+U)$ and C=$D^{-1}B$\n",
    "\n",
    "This method is convergent iff the spectral radius of H is strictly less than 1"
   ]
  },
  {
   "cell_type": "markdown",
   "metadata": {},
   "source": [
    "#### Spectral Radius\n",
    "If A is n x n matrix. Then the spectral radius $\\rho(A)$ could be defined as \n",
    "\n",
    "\n",
    "$\\rho(A)\\doteq$ max{$\\mid\\lambda(A)\\mid$ where $\\lambda(A)$ is an eigen value of A}\n",
    "\n",
    "#### Diagonally Dominant Matrices\n",
    "\n",
    "A square matrix A=[$a_{ij}$] is diagonally dominant if \n",
    "\n",
    "$\\mid a_{ij}\\mid\\geq\\sum_{j=1,i\\neq j}^{n}\\mid a_{ij} \\mid$ for all i=1,2,3...n\n",
    "\n",
    "\n",
    "If the inequality are strict, then A is called strictly diagonally dominant matrices"
   ]
  },
  {
   "cell_type": "code",
   "execution_count": 7,
   "metadata": {},
   "outputs": [],
   "source": [
    "def Gauss_Jacobi(A,B,x0,N):\n",
    "\n",
    "    n=A.ncols()\n",
    "    H=zero_matrix(RR,n,n)\n",
    "    C=zero_matrix(RR,n,n)\n",
    "    L=zero_matrix(RR,n,n)\n",
    "    D=zero_matrix(RR,n,n)\n",
    "    U=zero_matrix(RR,n,n)\n",
    "    x=zero_matrix(RR,n,1)\n",
    "    xold=zero_matrix(RR,n,1)\n",
    "    for i in range(0,n):\n",
    "        for j in range(0,n):\n",
    "            if (i==j):\n",
    "                D[i,j]=A[i,j]\n",
    "            elif(i<j):\n",
    "                U[i,j]=A[i,j]\n",
    "            else:\n",
    "                L[i,j]=A[i,j]\n",
    "    D1=D.inverse()\n",
    "    H=-D1*L-D1*U\n",
    "    C=D1*B\n",
    "    xold=x0\n",
    "    for i in range(1,N):\n",
    "        x=H*xold+C\n",
    "        xold=x\n",
    "    return x"
   ]
  },
  {
   "cell_type": "code",
   "execution_count": 8,
   "metadata": {},
   "outputs": [],
   "source": [
    "A=matrix(RR,[[15.0,-7.0,-2.0],[3.0,-10.0,2.0],[2.0,-5.0,19.0]])\n",
    "B=matrix(RR,[[9.0],[8.0],[7.0]])\n",
    "x0=matrix(RR,[[1.0],[0.0],[0.0]])"
   ]
  },
  {
   "cell_type": "code",
   "execution_count": 9,
   "metadata": {},
   "outputs": [
    {
     "data": {
      "text/plain": [
       "[ 0.305258657545960]\n",
       "[-0.676784950833690]\n",
       "[ 0.158187259512612]"
      ]
     },
     "execution_count": 9,
     "metadata": {},
     "output_type": "execute_result"
    }
   ],
   "source": [
    "Gauss_Jacobi(A,B,x0,50)"
   ]
  },
  {
   "cell_type": "code",
   "execution_count": 10,
   "metadata": {},
   "outputs": [
    {
     "data": {
      "text/plain": [
       "[ 0.305258657545960]\n",
       "[-0.676784950833690]\n",
       "[ 0.158187259512612]"
      ]
     },
     "execution_count": 10,
     "metadata": {},
     "output_type": "execute_result"
    }
   ],
   "source": [
    "A\\B"
   ]
  },
  {
   "cell_type": "code",
   "execution_count": 13,
   "metadata": {},
   "outputs": [
    {
     "data": {
      "text/plain": [
       "[7.98681266977768e66]\n",
       "[3.51726999642180e66]\n",
       "[1.37778339108687e66]"
      ]
     },
     "execution_count": 13,
     "metadata": {},
     "output_type": "execute_result"
    }
   ],
   "source": [
    "A=matrix(RR,[[5.0,-7.0,-2.0],[3.0,-1.0,2.0],[2.0,-5.0,19.0]])\n",
    "B=matrix(RR,[[9.0],[8.0],[7.0]])\n",
    "x0=matrix(RR,[[1.0],[2.0],[3.0]])\n",
    "Gauss_Jacobi(A,B,x0,200)"
   ]
  },
  {
   "cell_type": "code",
   "execution_count": 14,
   "metadata": {},
   "outputs": [
    {
     "data": {
      "text/plain": [
       "[ 2.70170454545455]\n",
       "[0.576704545454545]\n",
       "[0.235795454545455]"
      ]
     },
     "execution_count": 14,
     "metadata": {},
     "output_type": "execute_result"
    }
   ],
   "source": [
    "A\\B"
   ]
  },
  {
   "cell_type": "markdown",
   "metadata": {},
   "source": [
    "### Gauss Seidel\n",
    "Let A = L + D + U where D is the diagonal part, L and U are as before. \n",
    "\n",
    "Then AX = B reduces to\n",
    "\n",
    "\n",
    "(L + D + U)X = B which can be written as (L + D)X = −UX + B.\n",
    "\n",
    "\n",
    "If L + D is invertible. Then we have\n",
    "\n",
    "X=$-(L+D)^{-1}UX+(L+D)^{-1}B$\n",
    "\n",
    "Hence the iterative sequence is given by \n",
    "\n",
    "$X^{(k+1)}=-(L+D)^{(-1)}UX^{(k)}+(L+D)^{-1}B$\n",
    "\n",
    "Thus the iteration matrix H = $-(L+D)^{-1}U$ and C= $(L+D)^{-1}B$\n",
    "\n",
    "The convergence of the sequence $X^{(k)}$ is similar to that of in Gauss-Jacobi method\n",
    "\n",
    "The rate of convergence if Gauss Siedel is twice than of Gauss Jacobi or in theoritical perspectives it takes less iterations than Gauss-Jacobi"
   ]
  },
  {
   "cell_type": "code",
   "execution_count": 15,
   "metadata": {},
   "outputs": [],
   "source": [
    "def Gauss_Seidel(A,B,x0,N):\n",
    "\n",
    "    n=A.ncols()\n",
    "    H=zero_matrix(RR,n,n)\n",
    "    C=zero_matrix(RR,n,n)\n",
    "    L=zero_matrix(RR,n,n)\n",
    "    D=zero_matrix(RR,n,n)\n",
    "    U=zero_matrix(RR,n,n)\n",
    "    x=zero_matrix(RR,n,1)\n",
    "    xold=zero_matrix(RR,n,1)\n",
    "    for i in range(0,n):\n",
    "        for j in range(0,n):\n",
    "            if (i==j):\n",
    "                D[i,j]=A[i,j]\n",
    "            elif(i<j):\n",
    "                U[i,j]=A[i,j]\n",
    "            else:\n",
    "                L[i,j]=A[i,j]\n",
    "    H=-(D+L).inverse()*U\n",
    "    C=(D+L).inverse()*B\n",
    "    xold=x0\n",
    "    for i in range(1,N):\n",
    "        x=H*xold+C\n",
    "        xold=x\n",
    "    return x"
   ]
  },
  {
   "cell_type": "code",
   "execution_count": 16,
   "metadata": {},
   "outputs": [
    {
     "data": {
      "text/plain": [
       "[ 0.305258657545960]\n",
       "[-0.676784950833690]\n",
       "[ 0.158187259512612]"
      ]
     },
     "execution_count": 16,
     "metadata": {},
     "output_type": "execute_result"
    }
   ],
   "source": [
    "A=matrix(RR,[[15.0,-7.0,-2.0],[3.0,-10.0,2.0],[2.0,-5.0,19.0]])\n",
    "B=matrix(RR,[[9.0],[8.0],[7.0]])\n",
    "x0=matrix(RR,[[0.0],[0.0],[0.0]])\n",
    "Gauss_Seidel(A,B,x0,100)"
   ]
  },
  {
   "cell_type": "code",
   "execution_count": 17,
   "metadata": {},
   "outputs": [
    {
     "data": {
      "text/plain": [
       "[ 0.305258657545960]\n",
       "[-0.676784950833690]\n",
       "[ 0.158187259512612]"
      ]
     },
     "execution_count": 17,
     "metadata": {},
     "output_type": "execute_result"
    }
   ],
   "source": [
    "A\\B"
   ]
  },
  {
   "cell_type": "markdown",
   "metadata": {},
   "source": [
    "#### Relaxation Method\n",
    "Successive over Relaxation(SOR) Scheme\n",
    "\n",
    "We desire to unveil Ax=B where we took A=L+D+U\n",
    "\n",
    "$X^{k+1}=Hx^k+C$\n",
    "\n",
    "where \n",
    "\n",
    "$H=(D+\\omega L)^{-1}[(1-\\omega)D-\\omega U]$ and $C=\\omega(D+\\omega L)^{-1}b$"
   ]
  },
  {
   "cell_type": "code",
   "execution_count": 18,
   "metadata": {},
   "outputs": [],
   "source": [
    "def SOR(A,B,x0,w,N):\n",
    "    n=A.ncols()\n",
    "    H=zero_matrix(RR,n,n)\n",
    "    C=zero_matrix(RR,n,n)\n",
    "    L=zero_matrix(RR,n,n)\n",
    "    D=zero_matrix(RR,n,n)\n",
    "    U=zero_matrix(RR,n,n)\n",
    "    x=zero_matrix(RR,n,1)\n",
    "    xold=zero_matrix(RR,n,1)\n",
    "    for i in range(0,n):\n",
    "        for j in range(0,n):\n",
    "            if (i==j):\n",
    "                D[i,j]=A[i,j]\n",
    "            elif(i<j):\n",
    "                U[i,j]=A[i,j]\n",
    "            else:\n",
    "                L[i,j]=A[i,j]\n",
    "    H=(D+w*L).inverse()*((1-w)*D-w*U)\n",
    "    C=w*(D+w*L).inverse()*B\n",
    "    xold=x0\n",
    "    for i in range(1,N):\n",
    "        x=H*xold+C\n",
    "        xold=x\n",
    "    return x"
   ]
  },
  {
   "cell_type": "code",
   "execution_count": 23,
   "metadata": {},
   "outputs": [
    {
     "name": "stdout",
     "output_type": "stream",
     "text": [
      "[0.234921751362757]\n",
      "[0.256374186741692]\n",
      "[0.518023562510990]\n",
      "[0.234921751362757]\n",
      "[0.256374186741692]\n",
      "[0.518023562510990]\n"
     ]
    }
   ],
   "source": [
    "A=matrix(RR,[[11.0,3.3,1.1],[5,9,1.0],[1,2.0,14.0]])\n",
    "B=matrix(RR, [[4.0],[4.0],[8.0]])\n",
    "x1=matrix(RR,[[0.0],[0.0],[0.0]])\n",
    "print(SOR(A,B,x1,1.2,50))\n",
    "print(A.solve_right(B))"
   ]
  },
  {
   "cell_type": "markdown",
   "metadata": {},
   "source": [
    "#### Convergence of SOR\n",
    "Suppose that the matrix A has positive diagonal elements and that $0<\\omega<2$. The SOR method converges only for starting vector $x^{(0)}$ if and only if A is positive definite and symmetric"
   ]
  }
 ],
 "metadata": {
  "kernelspec": {
   "display_name": "SageMath 9.0",
   "language": "sage",
   "name": "sagemath"
  },
  "language_info": {
   "codemirror_mode": {
    "name": "ipython",
    "version": 2
   },
   "file_extension": ".py",
   "mimetype": "text/x-python",
   "name": "python",
   "nbconvert_exporter": "python",
   "pygments_lexer": "ipython2",
   "version": "2.7.15"
  }
 },
 "nbformat": 4,
 "nbformat_minor": 2
}
